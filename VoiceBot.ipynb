{
 "cells": [
  {
   "cell_type": "markdown",
   "metadata": {},
   "source": [
    "# Speech Recognition"
   ]
  },
  {
   "cell_type": "code",
   "execution_count": 1,
   "metadata": {},
   "outputs": [],
   "source": [
    "import speech_recognition as sr"
   ]
  },
  {
   "cell_type": "code",
   "execution_count": 2,
   "metadata": {},
   "outputs": [],
   "source": [
    "listner=sr.Recognizer()\n"
   ]
  },
  {
   "cell_type": "code",
   "execution_count": 5,
   "metadata": {},
   "outputs": [
    {
     "name": "stdout",
     "output_type": "stream",
     "text": [
      "I am listening\n",
      "will never teach you\n"
     ]
    }
   ],
   "source": [
    "with sr.Microphone() as input_source:\n",
    "    print(\"I am listening\")\n",
    "    voice_input=listner.listen(input_source)\n",
    "    text=listner.recognize_google(voice_input)\n",
    "    print(text)"
   ]
  },
  {
   "cell_type": "markdown",
   "metadata": {},
   "source": [
    "# Text To Speech"
   ]
  },
  {
   "cell_type": "code",
   "execution_count": 7,
   "metadata": {},
   "outputs": [],
   "source": [
    "import pyttsx3"
   ]
  },
  {
   "cell_type": "code",
   "execution_count": 8,
   "metadata": {},
   "outputs": [],
   "source": [
    "msg=\"My name is Ankit\"\n"
   ]
  },
  {
   "cell_type": "code",
   "execution_count": 10,
   "metadata": {},
   "outputs": [],
   "source": [
    "# Male voice\n",
    "player=pyttsx3.init()\n",
    "player.say(msg)\n",
    "player.runAndWait()"
   ]
  },
  {
   "cell_type": "code",
   "execution_count": 15,
   "metadata": {},
   "outputs": [],
   "source": [
    "# Female voice\n",
    "voices=player.getProperty(\"voices\")\n",
    "player.setProperty(\"voice\",voices[1].id)    #0-male, 1-female\n",
    "player.say(msg)\n",
    "player.runAndWait()"
   ]
  },
  {
   "cell_type": "markdown",
   "metadata": {},
   "source": [
    "# Voice Bot"
   ]
  },
  {
   "cell_type": "code",
   "execution_count": 1,
   "metadata": {},
   "outputs": [],
   "source": [
    "import speech_recognition as sr\n",
    "import pyttsx3\n",
    "import wikipedia\n",
    "import pywhatkit"
   ]
  },
  {
   "cell_type": "code",
   "execution_count": 4,
   "metadata": {},
   "outputs": [],
   "source": [
    "# Speech Recognition\n",
    "listener = sr.Recognizer()\n",
    "\n",
    "def listen():\n",
    "    with sr.Microphone() as input_device:\n",
    "        print(\"I am ready, Listening ....\")\n",
    "        voice_content = listener.listen(input_device)\n",
    "        text_command = listener.recognize_google(voice_content)\n",
    "        text_command = text_command.lower()\n",
    "        print(text_command)\n",
    "\n",
    "    return text_command\n"
   ]
  },
  {
   "cell_type": "code",
   "execution_count": 5,
   "metadata": {},
   "outputs": [],
   "source": [
    "# Text to speech\n",
    "player = pyttsx3.init()\n",
    "\n",
    "def talk(text):\n",
    "    player.say(text)\n",
    "    player.runAndWait()"
   ]
  },
  {
   "cell_type": "code",
   "execution_count": 24,
   "metadata": {},
   "outputs": [],
   "source": [
    "def run_voice_bot():\n",
    "    command = listen()\n",
    "    #if \"ankit\" in command:\n",
    "    #command = command.replace(\"ankit\",\"\")\n",
    "\n",
    "    if \"what is\" in command:\n",
    "        command = command.replace(\"what is\", \"\")\n",
    "        info = wikipedia.summary(command, 5)\n",
    "        talk(info)\n",
    "\n",
    "    elif \"who is\" in command:\n",
    "        command = command.replace(\"who is\", \"\")\n",
    "        info = wikipedia.summary(command, 5)\n",
    "        talk(info)\n",
    "\n",
    "    elif \"play\" in command:\n",
    "        command = command.replace(\"play\", \"\")\n",
    "        pywhatkit.playonyt(command)\n",
    "\n",
    "    else:\n",
    "        talk(\"Sorry, I am unable to find what you looking for\")"
   ]
  },
  {
   "cell_type": "code",
   "execution_count": 28,
   "metadata": {},
   "outputs": [
    {
     "name": "stdout",
     "output_type": "stream",
     "text": [
      "I am ready, Listening ....\n",
      "who is the ceo of apple\n"
     ]
    }
   ],
   "source": [
    "run_voice_bot()"
   ]
  },
  {
   "cell_type": "code",
   "execution_count": 29,
   "metadata": {},
   "outputs": [
    {
     "name": "stdout",
     "output_type": "stream",
     "text": [
      "I am ready, Listening ....\n",
      "play anime\n"
     ]
    }
   ],
   "source": [
    "run_voice_bot()"
   ]
  },
  {
   "cell_type": "code",
   "execution_count": null,
   "metadata": {},
   "outputs": [],
   "source": []
  }
 ],
 "metadata": {
  "kernelspec": {
   "display_name": "base",
   "language": "python",
   "name": "python3"
  },
  "language_info": {
   "codemirror_mode": {
    "name": "ipython",
    "version": 3
   },
   "file_extension": ".py",
   "mimetype": "text/x-python",
   "name": "python",
   "nbconvert_exporter": "python",
   "pygments_lexer": "ipython3",
   "version": "3.9.12"
  },
  "orig_nbformat": 4
 },
 "nbformat": 4,
 "nbformat_minor": 2
}
